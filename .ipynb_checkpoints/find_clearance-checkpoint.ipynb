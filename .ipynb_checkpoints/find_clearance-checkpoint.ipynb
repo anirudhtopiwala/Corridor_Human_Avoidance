{
 "cells": [
  {
   "cell_type": "code",
   "execution_count": 136,
   "metadata": {},
   "outputs": [],
   "source": [
    "import os\n",
    "import numpy as np\n",
    "# import matplotlib.pyplot as plt\n",
    "import cv2\n",
    "import heapq\n",
    "import math\n",
    "import sys\n"
   ]
  },
  {
   "cell_type": "code",
   "execution_count": 137,
   "metadata": {},
   "outputs": [
    {
     "name": "stdout",
     "output_type": "stream",
     "text": [
      "left 1.384049470219828\n"
     ]
    }
   ],
   "source": [
    "class Find_Dist():\n",
    "    # Finding clearance distance\n",
    "    def load_image(self):\n",
    "        dir =sys.argv[1]\n",
    "        dir = './human_corridor_0.txt'\n",
    "        img = np.loadtxt(dir)\n",
    "#         img = np.loadtxt('./human_corridor_1.txt')\n",
    "#         plt.imshow(img)\n",
    "        return img\n",
    "#      Thresholfing image based on distance. Since human \n",
    "#         is almost always 2 m away. Removing any pixel information\n",
    "#         less than 1.8 m and further away from 4m \n",
    "    def get_centroid(self,img):\n",
    "        img[img<2] = 0 # make this in one line\n",
    "        img[img>4] = 0\n",
    "        img[-25:,:] = 0\n",
    "#         plt.imshow(img)\n",
    "        mask = img.copy()\n",
    "        mask[mask>0] = 255\n",
    "        mask = mask.astype(np.uint8)\n",
    "#         plt.imshow(mask)\n",
    "        image, contours, hierarchy = cv2.findContours(mask, cv2.RETR_EXTERNAL,cv2.CHAIN_APPROX_SIMPLE)\n",
    "        Area = []\n",
    "        Cx = []\n",
    "        Cy=[]\n",
    "        for i in contours:\n",
    "            # compute the center of the contour\n",
    "            M = cv2.moments(i)\n",
    "            if (M[\"m00\"]!=0):\n",
    "                cx = int(M[\"m10\"] / M[\"m00\"])\n",
    "                cy = int(M[\"m01\"] / M[\"m00\"])\n",
    "                if (cx>45 and cx< 122):\n",
    "                    Cx.append(cx)\n",
    "                    Cy.append(cy)\n",
    "                    area = cv2.contourArea(i)\n",
    "                    Area.append(area)\n",
    "        px = heapq.nlargest(1, zip(Area, Cx,Cy))[0][1]\n",
    "        py = heapq.nlargest(1, zip(Area, Cx,Cy))[0][2]\n",
    "        return px,py     \n",
    "    # getting the obstacle distance based on Horizontal FOV of 70 degrees\n",
    "    def get_dist(self,px,py,img):\n",
    "        mat = img[py,:]\n",
    "        ileft= []\n",
    "        iright = []\n",
    "        pnew =0\n",
    "        for i in range(25):\n",
    "            if (abs(mat[px+i+1]- mat[px+i])>0.5):\n",
    "                iright.append(px+i)\n",
    "            if (abs(mat[px-i]- mat[px-i-1])>0.5):\n",
    "                ileft.append(px-i)\n",
    "        diffpixel = px - 88\n",
    "        if diffpixel > 0:\n",
    "            state = \"left \"\n",
    "            pnew = ileft[0]\n",
    "        else:\n",
    "            state = \"right \"\n",
    "            pnew = iright[0]\n",
    "#         print(pnew)\n",
    "        dist = 1 + abs(img[py,pnew]*math.sin((70*math.pi*diffpixel)/(176*180)))\n",
    "        return dist,state\n",
    "if __name__ == '__main__':\n",
    "    c= Find_Dist()\n",
    "    img = c.load_image()\n",
    "    px,py = c.get_centroid(img)    \n",
    "#     mat = c.get_dist(px,py,img)\n",
    "    clearance, state = c.get_dist(px,py,img)\n",
    "    print(state + str(clearance))"
   ]
  },
  {
   "cell_type": "code",
   "execution_count": null,
   "metadata": {},
   "outputs": [],
   "source": []
  },
  {
   "cell_type": "code",
   "execution_count": null,
   "metadata": {},
   "outputs": [],
   "source": []
  }
 ],
 "metadata": {
  "kernelspec": {
   "display_name": "Python 3",
   "language": "python",
   "name": "python3"
  },
  "language_info": {
   "codemirror_mode": {
    "name": "ipython",
    "version": 3
   },
   "file_extension": ".py",
   "mimetype": "text/x-python",
   "name": "python",
   "nbconvert_exporter": "python",
   "pygments_lexer": "ipython3",
   "version": "3.5.2"
  }
 },
 "nbformat": 4,
 "nbformat_minor": 2
}
